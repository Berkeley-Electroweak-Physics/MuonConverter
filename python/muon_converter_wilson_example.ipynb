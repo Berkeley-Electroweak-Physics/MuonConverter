{
 "cells": [
  {
   "cell_type": "markdown",
   "id": "f0ef4326-8073-41a8-b050-088c37d690ba",
   "metadata": {},
   "source": [
    "## $\\texttt{wilson}$ installation"
   ]
  },
  {
   "cell_type": "code",
   "execution_count": null,
   "id": "4f3573ec-b4b6-4b2e-a452-d2c8669ff22b",
   "metadata": {},
   "outputs": [],
   "source": [
    "!pip3 install wilson"
   ]
  },
  {
   "cell_type": "markdown",
   "id": "d46d3bcc-a163-4b75-9b69-622eafc16f76",
   "metadata": {},
   "source": [
    "## $\\texttt{wilson}$ example"
   ]
  },
  {
   "cell_type": "code",
   "execution_count": 1,
   "id": "5d3af1b8-f040-40b5-aebe-0f37b96f2a12",
   "metadata": {},
   "outputs": [],
   "source": [
    "import wilson\n",
    "import numpy as np"
   ]
  },
  {
   "cell_type": "code",
   "execution_count": 2,
   "id": "3d7fd12a-1378-43a1-91df-2d47e165703d",
   "metadata": {},
   "outputs": [],
   "source": [
    "# Set initial coefficients and basis in the UV\n",
    "Lambda_UV = 1e6 # 1e3 TeV\n",
    "SMEFT_dict = {'lq1_1211': 1/Lambda_UV**2}\n",
    "eft_UV = 'SMEFT'\n",
    "basis_UV = 'Warsaw'"
   ]
  },
  {
   "cell_type": "code",
   "execution_count": 3,
   "id": "3805b7e2-8bf8-4697-97b6-2497f384965d",
   "metadata": {},
   "outputs": [],
   "source": [
    "# Initialize Wilson object\n",
    "willy = wilson.Wilson(SMEFT_dict, scale = Lambda_UV, eft = eft_UV, basis = basis_UV)\n",
    "# Choose RGE evolution scheme ['integrate' or 'leadinglog']\n",
    "willy.set_option('smeft_accuracy', 'integrate')"
   ]
  },
  {
   "cell_type": "code",
   "execution_count": null,
   "id": "b9c61ab9-f38a-49f3-992a-25f4675ac14c",
   "metadata": {},
   "outputs": [],
   "source": [
    "# Define the energies to run to (there is a better way to do this with run_continuous)\n",
    "Lambda_IR = 2 # GeV\n",
    "eft_IR = 'WET-3'\n",
    "basis_IR = 'JMS'\n",
    "\n",
    "# Initialize list with relevant CLFV WET-3 operators\n",
    "mue_sector = ['egamma_12', 'VeuLL_1211', 'VedLL_1211', 'VedLL_1222', 'VeuRR_1211', \n",
    "              'VedRR_1211', 'VedRR_1222', 'VeuLR_1211', 'VedLR_1211', 'VedLR_1222',\n",
    "              'VueLR_1112', 'VdeLR_1112', 'VdeLR_2212', 'SeuRL_1211', 'SedRL_1211', \n",
    "              'SedRL_1222', 'SeuRR_1211', 'SedRR_1211', 'SedRR_1222', 'TeuRR_1211', \n",
    "              'TedRR_1211', 'TedRR_1222']\n",
    "\n",
    "# Initialize WET-3 coefficient dictionary for plotting\n",
    "WET_JMS_dict = {}\n",
    "\n",
    "# Run the SMEFT coefficients down to 2 GeV - matching onto WET-JMS\n",
    "wc_i = willy.match_run(scale = Lambda_IR, eft = eft_IR, basis = basis_IR, sectors = 'mue')\n",
    "for keys in mue_sector:\n",
    "        WET_JMS_dict[keys] = wc_i[keys]"
   ]
  },
  {
   "cell_type": "code",
   "execution_count": 5,
   "id": "e400dafa-25b1-48e5-beef-fc54578edae5",
   "metadata": {},
   "outputs": [
    {
     "name": "stdout",
     "output_type": "stream",
     "text": [
      "{'egamma_12': (1.0422893750356698e-18-4.826129259963087e-29j), 'VeuLL_1211': (1.0490139372977574e-12+1.2489533583394457e-28j), 'VedLL_1211': (9.345698236963939e-13+1.0376659162281914e-28j), 'VedLL_1222': (4.0256753135476105e-15+4.8729004998351244e-31j), 'VeuRR_1211': (-1.6128814766222085e-24-1.7700531720008475e-40j), 'VedRR_1211': (7.705330086751363e-25+8.454647906773906e-41j), 'VedRR_1222': (7.705329947158877e-25+8.454647840740366e-41j), 'VeuLR_1211': (-7.998633680672414e-15-8.768989038643135e-31j), 'VedLR_1211': (4.171300400542135e-15+4.5745088182565714e-31j), 'VedLR_1222': (4.171300381114955e-15+4.5745088390821665e-31j), 'VueLR_1112': (2.025493403054724e-22+2.2320254912724152e-38j), 'VdeLR_1112': (2.224442558730651e-22+2.4698187151628097e-38j), 'VdeLR_2212': (7.838932660841282e-25+1.1583900029195604e-40j), 'SeuRL_1211': 0, 'SedRL_1211': (-1.7366901766141653e-21-1.7621599296072498e-37j), 'SedRL_1222': (4.1370757022294324e-22+3.322150763082136e-34j), 'SeuRR_1211': (1.0730610168043567e-21-7.894087485054185e-32j), 'SedRR_1211': 0, 'SedRR_1222': 0, 'TeuRR_1211': (-9.679583778975548e-23+2.91421248191254e-32j), 'TedRR_1211': 0, 'TedRR_1222': 0}\n"
     ]
    }
   ],
   "source": [
    "print(WET_JMS_dict)"
   ]
  },
  {
   "cell_type": "code",
   "execution_count": 6,
   "id": "734594c8-1424-4a56-b7c9-5f5540f8cdfe",
   "metadata": {},
   "outputs": [],
   "source": [
    "# Import the MuonConverter interface\n",
    "from MuonConverter import Interface"
   ]
  },
  {
   "cell_type": "code",
   "execution_count": 7,
   "id": "bbe015e2-8354-4941-9fac-72baa5baac38",
   "metadata": {},
   "outputs": [],
   "source": [
    "# Define the momentum transfer\n",
    "q = [0., 0., 0., 0.11081] # GeV\n",
    "# Initialize an interface instance\n",
    "MuonConverter = Interface(WET_JMS_dict, q)\n",
    "\n",
    "# Define the nuclear input for Mu2e_NRET\n",
    "element     = 'Al'\n",
    "isotope     = 0\n",
    "interaction = 'bw'\n",
    "oscb        = 0\n",
    "isochar     = 'proton'"
   ]
  },
  {
   "cell_type": "code",
   "execution_count": null,
   "id": "53b06df9-7875-43a6-b2a6-8a1c6fe262d1",
   "metadata": {},
   "outputs": [],
   "source": [
    "# Compute the capture rate\n",
    "capture_ratio, Gamma, _ = MuonConverter.compute_rate(element, isotope, interaction, oscb, isochar, input_basis = 'JMS')"
   ]
  },
  {
   "cell_type": "code",
   "execution_count": 9,
   "id": "8b7d6b68-345d-4762-8c73-313244c3e44d",
   "metadata": {},
   "outputs": [
    {
     "name": "stdout",
     "output_type": "stream",
     "text": [
      "The computed capture ratio is 2.395967346396559e-13\n",
      "The computed rate is 1.6728644012540774e-07 1/s\n"
     ]
    }
   ],
   "source": [
    "print('The computed capture ratio is', capture_ratio)\n",
    "print('The computed rate is', Gamma, '1/s')"
   ]
  },
  {
   "cell_type": "markdown",
   "id": "b898b75d",
   "metadata": {},
   "source": [
    "## $\\texttt{MuonConverter}$ intermediate translations"
   ]
  },
  {
   "cell_type": "markdown",
   "id": "6f3f0bfe",
   "metadata": {},
   "source": [
    "## Appendix A example\n",
    "Now for a $\\texttt{wilson}$ indpendent test -- the same one listed in Appendix A."
   ]
  },
  {
   "cell_type": "code",
   "execution_count": 10,
   "id": "4134770b-b8d7-4bb3-a09e-1475a1ffa7d9",
   "metadata": {},
   "outputs": [],
   "source": [
    "# Initialize WET-3 coefficient dictionary for plotting\n",
    "WET_JMS_dict = {'egamma_12': 0., 'VeuLL_1211': 1e-13, 'VedLL_1211': 0., 'VedLL_1222': 0., \n",
    "                'VeuRR_1211': 0., 'VedRR_1211': 0., 'VedRR_1222': 0., 'VeuLR_1211': 0.,\n",
    "                'VedLR_1211': 0., 'VedLR_1222': 0.,'VueLR_1112': 0., 'VdeLR_1112': 0., \n",
    "                'VdeLR_2212': 0., 'SeuRL_1211': 0., 'SedRL_1211': 0., 'SedRL_1222': 0., \n",
    "                'SeuRR_1211': 0., 'SedRR_1211': 0., 'SedRR_1222': 0., 'TeuRR_1211': 0., \n",
    "                'TedRR_1211': 0., 'TedRR_1222': 0.}\n",
    "# Define the momentum transfer\n",
    "q = [0., 0., 0., 0.11081]\n",
    "\n",
    "# Initialize an interface instance\n",
    "MuonConverter = Interface(WET_JMS_dict, q)\n",
    "\n",
    "# Define the input for Mu2e_NRET\n",
    "element     = 'Al'\n",
    "isotope     = 27\n",
    "interaction = 'bw'\n",
    "oscb        = 0\n",
    "isochar     = 'proton'\n",
    "# Compute the capture and decay rate\n",
    "capture_ratio, Gamma, _ = MuonConverter.compute_rate(element, isotope, interaction, oscb, isochar, input_basis = 'JMS')"
   ]
  },
  {
   "cell_type": "code",
   "execution_count": 11,
   "id": "bb3061d7-d0e6-4628-9865-406710725201",
   "metadata": {},
   "outputs": [
    {
     "name": "stdout",
     "output_type": "stream",
     "text": [
      "The computed capture ratio is 5.994220375177959e-16\n",
      "The computed rate is 4.1851646659492513e-10 1/s\n"
     ]
    }
   ],
   "source": [
    "print('The computed capture ratio is', capture_ratio)\n",
    "print('The computed rate is', Gamma, '1/s')"
   ]
  },
  {
   "cell_type": "code",
   "execution_count": 13,
   "id": "7710ab3e",
   "metadata": {},
   "outputs": [
    {
     "name": "stdout",
     "output_type": "stream",
     "text": [
      "{'Tegamma_12': 0.0, 'ATegamma_12': -0j, 'VVeu_1211': 2.5e-14, 'VVed_1211': 0.0, 'VVed_1222': 0.0, 'AVVeu_1211': -2.5e-14, 'AVVed_1211': 0.0, 'AVVed_1222': 0.0, 'VAVeu_1211': -2.5e-14, 'VAVed_1211': 0.0, 'VAVed_1222': 0.0, 'AVAVeu_1211': 2.5e-14, 'AVAVed_1211': 0.0, 'AVAVed_1222': 0.0, 'SSeu_1211': 0.0, 'SSed_1211': 0.0, 'SSed_1222': 0.0, 'ASeu_1211': -0j, 'ASed_1211': -0j, 'ASed_1222': -0j, 'SAeu_1211': 0j, 'SAed_1211': 0j, 'SAed_1222': 0j, 'AAeu_1211': 0.0, 'AAed_1211': 0.0, 'AAed_1222': 0.0, 'TTeu_1211': 0.0, 'TTed_1211': 0.0, 'TTed_1222': 0.0, 'ATTeu_1211': -0j, 'ATTed_1211': -0j, 'ATTed_1222': -0j}\n"
     ]
    }
   ],
   "source": [
    "# Intermediate translations to the WCxf compliant HHMRZ basis\n",
    "HMMRZ_WET = MuonConverter.JMS_to_MuonConverter()\n",
    "print(HMMRZ_WET)"
   ]
  },
  {
   "cell_type": "code",
   "execution_count": 14,
   "id": "e8280955",
   "metadata": {},
   "outputs": [
    {
     "name": "stdout",
     "output_type": "stream",
     "text": [
      "{'C51': 0.0, 'C52': -0j, 'C61u': 2.5e-14, 'C61d': 0.0, 'C61s': 0.0, 'C62u': -2.5e-14, 'C62d': 0.0, 'C62s': 0.0, 'C63u': -2.5e-14, 'C63d': 0.0, 'C63s': 0.0, 'C64u': 2.5e-14, 'C64d': 0.0, 'C64s': 0.0, 'C65u': 0.0, 'C65d': 0.0, 'C65s': 0.0, 'C67u': -0j, 'C67d': -0j, 'C67s': -0j, 'C66u': 0j, 'C66d': 0j, 'C66s': 0j, 'C68u': 0.0, 'C68d': 0.0, 'C68s': 0.0, 'C69u': 0.0, 'C69d': 0.0, 'C69s': 0.0, 'C610u': -0j, 'C610d': -0j, 'C610s': -0j}\n"
     ]
    }
   ],
   "source": [
    "# Intermediate translations to the HHMRZ C-basis\n",
    "HMMRZ_C_WET = MuonConverter.WCxf_to_Cmueqq()\n",
    "print(HMMRZ_C_WET)"
   ]
  },
  {
   "cell_type": "code",
   "execution_count": 15,
   "id": "8cddc13c",
   "metadata": {},
   "outputs": [
    {
     "name": "stdout",
     "output_type": "stream",
     "text": [
      "[[1, 0j, 0j], [2, -7.676640202537643e-15j, 1.0471649009162055e-13j], [3, 0j, 0j], [4, (-7.751254618821842e-15+0j), (1.0573429991172041e-13+0j)], [5, 3.632102417591631e-14, 1.2120880454404478e-14], [6, 3.554082525185236e-15, -2.3357748760349846e-14], [7, -4.834742083612529e-15, -1.5612977966653347e-14], [8, 0.0, 0.0], [9, 0.0, 0.0], [10, 0.0, 0.0], [11, -0.0, 0.0], [12, -0.0, 0.0], [13, (-3.632102417591631e-14+0j), (-1.2120880454404478e-14+0j)], [14, (-3.554082525185236e-15+0j), (2.3357748760349846e-14+0j)], [15, (4.834742083612529e-15+0j), (1.5612977966653347e-14+0j)], [16, 0j, 0j], [17, 0j, 0j], [18, 0j, 0j], [19, 0.0, 0.0], [20, 0.0, 0.0], [21, 0.0, 0.0], [22, -0.0, 0.0], [23, -0.0, 0.0], [24, -0.0, 0.0], [25, 0j, 0j], [26, (-0+0j), 0j], [27, (-0+0j), 0j], [28, (-0+0j), 0j], [29, -0.0, 0.0], [30, -0.0, 0.0], [31, 0.0, 0.0], [32, 0.0, 0.0]]\n"
     ]
    }
   ],
   "source": [
    "# Hadronization of the HMMRZ basis to the covariant (d) basis\n",
    "HMMRZ_RET = MuonConverter.JMS_to_RET()\n",
    "print(HMMRZ_RET)"
   ]
  },
  {
   "cell_type": "code",
   "execution_count": null,
   "id": "0da593e0",
   "metadata": {},
   "outputs": [],
   "source": []
  }
 ],
 "metadata": {
  "kernelspec": {
   "display_name": "Python 3 (ipykernel)",
   "language": "python",
   "name": "python3"
  },
  "language_info": {
   "codemirror_mode": {
    "name": "ipython",
    "version": 3
   },
   "file_extension": ".py",
   "mimetype": "text/x-python",
   "name": "python",
   "nbconvert_exporter": "python",
   "pygments_lexer": "ipython3",
   "version": "3.12.3"
  }
 },
 "nbformat": 4,
 "nbformat_minor": 5
}
